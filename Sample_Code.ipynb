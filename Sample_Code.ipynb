{
 "cells": [
  {
   "cell_type": "code",
   "execution_count": 64,
   "metadata": {},
   "outputs": [
    {
     "name": "stdout",
     "output_type": "stream",
     "text": [
      "['Books_5.json', 'data.csv', 'reviews_Books_5.json', 'reviews_Books_5.json.gz']\n"
     ]
    }
   ],
   "source": [
    "import numpy as np\n",
    "import pandas as pd\n",
    "import glob\n",
    "import json\n",
    "import matplotlib.pyplot as plt\n",
    "\n",
    "import os\n",
    "print(os.listdir(\"Amazon\"))"
   ]
  },
  {
   "cell_type": "code",
   "execution_count": 30,
   "metadata": {},
   "outputs": [],
   "source": [
    "file = glob.glob('Amazon/Books_5.json')"
   ]
  },
  {
   "cell_type": "code",
   "execution_count": 31,
   "metadata": {},
   "outputs": [],
   "source": [
    "review=[]\n",
    "with open(file[0]) as data_file:\n",
    "    data=data_file.read()\n",
    "    for i in data.split('\\n'):\n",
    "        review.append(i)\n",
    "        \n",
    "# Making a list of Tuples containg all the data of json files.\n",
    "reviewDataframe=[]\n",
    "for x in review:\n",
    "    try:\n",
    "        jdata=json.loads(x)\n",
    "        reviewDataframe.append((jdata['reviewerID'], jdata['asin'],jdata['reviewText'],jdata['overall'])) \n",
    "    except: \n",
    "        pass        \n",
    "    \n",
    "# Creating a dataframe using the list of Tuples got in the previous step.    \n",
    "dataset=pd.DataFrame(reviewDataframe,columns=['Reviewer_ID', 'Asin','Review_Text','Rating'])"
   ]
  },
  {
   "cell_type": "code",
   "execution_count": 4,
   "metadata": {},
   "outputs": [],
   "source": [
    "rating = dataset[\"Rating\"]"
   ]
  },
  {
   "cell_type": "code",
   "execution_count": 6,
   "metadata": {},
   "outputs": [
    {
     "data": {
      "text/plain": [
       "0      5.0\n",
       "1      5.0\n",
       "2      5.0\n",
       "3      5.0\n",
       "4      5.0\n",
       "      ... \n",
       "195    5.0\n",
       "196    5.0\n",
       "197    5.0\n",
       "198    1.0\n",
       "199    5.0\n",
       "Name: Rating, Length: 200, dtype: float64"
      ]
     },
     "execution_count": 6,
     "metadata": {},
     "output_type": "execute_result"
    }
   ],
   "source": [
    "rating[:200]"
   ]
  },
  {
   "cell_type": "code",
   "execution_count": 7,
   "metadata": {},
   "outputs": [
    {
     "data": {
      "text/plain": [
       "5.0    4980815\n",
       "4.0    2223094\n",
       "3.0     955189\n",
       "2.0     415110\n",
       "1.0     323833\n",
       "Name: Rating, dtype: int64"
      ]
     },
     "execution_count": 7,
     "metadata": {},
     "output_type": "execute_result"
    }
   ],
   "source": [
    "dataset['Rating'].value_counts()"
   ]
  },
  {
   "cell_type": "code",
   "execution_count": 32,
   "metadata": {},
   "outputs": [],
   "source": [
    "Overall_Rating=dataset.groupby(['Rating'])['Reviewer_ID'].count().reset_index()"
   ]
  },
  {
   "cell_type": "code",
   "execution_count": 33,
   "metadata": {},
   "outputs": [],
   "source": [
    "Overall_Rating=Overall_Rating.rename(columns={'Reviewer_ID':'Number_of_Reviews'})"
   ]
  },
  {
   "cell_type": "code",
   "execution_count": 34,
   "metadata": {},
   "outputs": [
    {
     "data": {
      "text/html": [
       "<div>\n",
       "<style scoped>\n",
       "    .dataframe tbody tr th:only-of-type {\n",
       "        vertical-align: middle;\n",
       "    }\n",
       "\n",
       "    .dataframe tbody tr th {\n",
       "        vertical-align: top;\n",
       "    }\n",
       "\n",
       "    .dataframe thead th {\n",
       "        text-align: right;\n",
       "    }\n",
       "</style>\n",
       "<table border=\"1\" class=\"dataframe\">\n",
       "  <thead>\n",
       "    <tr style=\"text-align: right;\">\n",
       "      <th></th>\n",
       "      <th>Rating</th>\n",
       "      <th>Number_of_Reviews</th>\n",
       "    </tr>\n",
       "  </thead>\n",
       "  <tbody>\n",
       "    <tr>\n",
       "      <td>0</td>\n",
       "      <td>1.0</td>\n",
       "      <td>323833</td>\n",
       "    </tr>\n",
       "    <tr>\n",
       "      <td>1</td>\n",
       "      <td>2.0</td>\n",
       "      <td>415110</td>\n",
       "    </tr>\n",
       "    <tr>\n",
       "      <td>2</td>\n",
       "      <td>3.0</td>\n",
       "      <td>955189</td>\n",
       "    </tr>\n",
       "    <tr>\n",
       "      <td>3</td>\n",
       "      <td>4.0</td>\n",
       "      <td>2223094</td>\n",
       "    </tr>\n",
       "    <tr>\n",
       "      <td>4</td>\n",
       "      <td>5.0</td>\n",
       "      <td>4980815</td>\n",
       "    </tr>\n",
       "  </tbody>\n",
       "</table>\n",
       "</div>"
      ],
      "text/plain": [
       "   Rating  Number_of_Reviews\n",
       "0     1.0             323833\n",
       "1     2.0             415110\n",
       "2     3.0             955189\n",
       "3     4.0            2223094\n",
       "4     5.0            4980815"
      ]
     },
     "execution_count": 34,
     "metadata": {},
     "output_type": "execute_result"
    }
   ],
   "source": [
    "Overall_Rating"
   ]
  },
  {
   "cell_type": "code",
   "execution_count": 35,
   "metadata": {},
   "outputs": [],
   "source": [
    "AvgRatingProd=dataset.groupby('Asin')['Rating'].mean().reset_index()"
   ]
  },
  {
   "cell_type": "code",
   "execution_count": 60,
   "metadata": {},
   "outputs": [],
   "source": [
    "result_AvgRatingProd=AvgRatingProd.groupby(pd.cut(AvgRatingProd.Rating,np.arange(0, 5.1, 1))).count()\n",
    "result_AvgRatingProd=result_AvgRatingProd.rename(columns={'Rating':'Count'})\n",
    "result_AvgRatingProd=result_AvgRatingProd.reset_index()"
   ]
  },
  {
   "cell_type": "code",
   "execution_count": 61,
   "metadata": {},
   "outputs": [
    {
     "data": {
      "text/html": [
       "<div>\n",
       "<style scoped>\n",
       "    .dataframe tbody tr th:only-of-type {\n",
       "        vertical-align: middle;\n",
       "    }\n",
       "\n",
       "    .dataframe tbody tr th {\n",
       "        vertical-align: top;\n",
       "    }\n",
       "\n",
       "    .dataframe thead th {\n",
       "        text-align: right;\n",
       "    }\n",
       "</style>\n",
       "<table border=\"1\" class=\"dataframe\">\n",
       "  <thead>\n",
       "    <tr style=\"text-align: right;\">\n",
       "      <th></th>\n",
       "      <th>Rating</th>\n",
       "      <th>Count</th>\n",
       "    </tr>\n",
       "  </thead>\n",
       "  <tbody>\n",
       "    <tr>\n",
       "      <td>0</td>\n",
       "      <td>(0.0, 1.0]</td>\n",
       "      <td>51</td>\n",
       "    </tr>\n",
       "    <tr>\n",
       "      <td>1</td>\n",
       "      <td>(1.0, 2.0]</td>\n",
       "      <td>846</td>\n",
       "    </tr>\n",
       "    <tr>\n",
       "      <td>2</td>\n",
       "      <td>(2.0, 3.0]</td>\n",
       "      <td>9294</td>\n",
       "    </tr>\n",
       "    <tr>\n",
       "      <td>3</td>\n",
       "      <td>(3.0, 4.0]</td>\n",
       "      <td>94147</td>\n",
       "    </tr>\n",
       "    <tr>\n",
       "      <td>4</td>\n",
       "      <td>(4.0, 5.0]</td>\n",
       "      <td>263644</td>\n",
       "    </tr>\n",
       "  </tbody>\n",
       "</table>\n",
       "</div>"
      ],
      "text/plain": [
       "       Rating   Count\n",
       "0  (0.0, 1.0]      51\n",
       "1  (1.0, 2.0]     846\n",
       "2  (2.0, 3.0]    9294\n",
       "3  (3.0, 4.0]   94147\n",
       "4  (4.0, 5.0]  263644"
      ]
     },
     "execution_count": 61,
     "metadata": {},
     "output_type": "execute_result"
    }
   ],
   "source": [
    "result_AvgRatingProd[['Rating','Count']]"
   ]
  },
  {
   "cell_type": "code",
   "execution_count": 65,
   "metadata": {},
   "outputs": [
    {
     "data": {
      "image/png": "[encoded data removed]",
      "text/plain": [
       "<Figure size 432x288 with 1 Axes>"
      ]
     },
     "metadata": {
      "needs_background": "light"
     },
     "output_type": "display_data"
    }
   ],
   "source": [
    "result_AvgRatingProd.plot(x=\"Rating\",y=\"Count\",kind=\"bar\",title=\"Distribution of Average Rating of Product\")\n",
    "plt.show()"
   ]
  },
  {
   "cell_type": "code",
   "execution_count": 85,
   "metadata": {},
   "outputs": [],
   "source": [
    "df5 = dataset[dataset['Rating'] == 5.0] [: 200]\n",
    "df4 = dataset[dataset['Rating'] == 4.0] [: 200]\n",
    "df3 = dataset[dataset['Rating'] == 3.0] [: 200]\n",
    "df2 = dataset[dataset['Rating'] == 2.0] [: 200]\n",
    "df1 = dataset[dataset['Rating'] == 1.0] [: 200]\n",
    "    "
   ]
  },
  {
   "cell_type": "code",
   "execution_count": 87,
   "metadata": {},
   "outputs": [
    {
     "data": {
      "text/html": [
       "<div>\n",
       "<style scoped>\n",
       "    .dataframe tbody tr th:only-of-type {\n",
       "        vertical-align: middle;\n",
       "    }\n",
       "\n",
       "    .dataframe tbody tr th {\n",
       "        vertical-align: top;\n",
       "    }\n",
       "\n",
       "    .dataframe thead th {\n",
       "        text-align: right;\n",
       "    }\n",
       "</style>\n",
       "<table border=\"1\" class=\"dataframe\">\n",
       "  <thead>\n",
       "    <tr style=\"text-align: right;\">\n",
       "      <th></th>\n",
       "      <th>Reviewer_ID</th>\n",
       "      <th>Asin</th>\n",
       "      <th>Review_Text</th>\n",
       "      <th>Rating</th>\n",
       "    </tr>\n",
       "  </thead>\n",
       "  <tbody>\n",
       "    <tr>\n",
       "      <td>80</td>\n",
       "      <td>A9WX8DK93SN5</td>\n",
       "      <td>000100039X</td>\n",
       "      <td>As Amin Rihani described his own friend Gibran...</td>\n",
       "      <td>1.0</td>\n",
       "    </tr>\n",
       "    <tr>\n",
       "      <td>121</td>\n",
       "      <td>A3HLNFF21USD1K</td>\n",
       "      <td>000100039X</td>\n",
       "      <td>I appreciate getting the book at the great pri...</td>\n",
       "      <td>1.0</td>\n",
       "    </tr>\n",
       "    <tr>\n",
       "      <td>146</td>\n",
       "      <td>A14A2VLURI8DGP</td>\n",
       "      <td>000100039X</td>\n",
       "      <td>This man was a son of a pastor, but worshipped...</td>\n",
       "      <td>1.0</td>\n",
       "    </tr>\n",
       "    <tr>\n",
       "      <td>148</td>\n",
       "      <td>AD6E4Y092Y4KP</td>\n",
       "      <td>000100039X</td>\n",
       "      <td>You've got to be kidding, all you 5 star revie...</td>\n",
       "      <td>1.0</td>\n",
       "    </tr>\n",
       "    <tr>\n",
       "      <td>159</td>\n",
       "      <td>ALD1CRUBY1365</td>\n",
       "      <td>000100039X</td>\n",
       "      <td>This book was a philosophical touchstone for i...</td>\n",
       "      <td>1.0</td>\n",
       "    </tr>\n",
       "    <tr>\n",
       "      <td>...</td>\n",
       "      <td>...</td>\n",
       "      <td>...</td>\n",
       "      <td>...</td>\n",
       "      <td>...</td>\n",
       "    </tr>\n",
       "    <tr>\n",
       "      <td>5067</td>\n",
       "      <td>A3KXNU7J7X6RBY</td>\n",
       "      <td>0002247399</td>\n",
       "      <td>For a 5 book series, with a huge cast of chara...</td>\n",
       "      <td>1.0</td>\n",
       "    </tr>\n",
       "    <tr>\n",
       "      <td>5076</td>\n",
       "      <td>A3GCK6ILEXNTDU</td>\n",
       "      <td>0002247399</td>\n",
       "      <td>Martin continues his tradition of dragging out...</td>\n",
       "      <td>1.0</td>\n",
       "    </tr>\n",
       "    <tr>\n",
       "      <td>5081</td>\n",
       "      <td>A36G9PDHFPWG5D</td>\n",
       "      <td>0002247399</td>\n",
       "      <td>Books 1-3 were engrossing and broke so many ac...</td>\n",
       "      <td>1.0</td>\n",
       "    </tr>\n",
       "    <tr>\n",
       "      <td>5089</td>\n",
       "      <td>A1GXOPDPVWA3U9</td>\n",
       "      <td>0002247399</td>\n",
       "      <td>I have to preface by saying I loved book 1 but...</td>\n",
       "      <td>1.0</td>\n",
       "    </tr>\n",
       "    <tr>\n",
       "      <td>5101</td>\n",
       "      <td>A144NUECKP2AS7</td>\n",
       "      <td>0002247399</td>\n",
       "      <td>The initial story line appeared to be sound an...</td>\n",
       "      <td>1.0</td>\n",
       "    </tr>\n",
       "  </tbody>\n",
       "</table>\n",
       "<p>200 rows × 4 columns</p>\n",
       "</div>"
      ],
      "text/plain": [
       "         Reviewer_ID        Asin  \\\n",
       "80      A9WX8DK93SN5  000100039X   \n",
       "121   A3HLNFF21USD1K  000100039X   \n",
       "146   A14A2VLURI8DGP  000100039X   \n",
       "148    AD6E4Y092Y4KP  000100039X   \n",
       "159    ALD1CRUBY1365  000100039X   \n",
       "...              ...         ...   \n",
       "5067  A3KXNU7J7X6RBY  0002247399   \n",
       "5076  A3GCK6ILEXNTDU  0002247399   \n",
       "5081  A36G9PDHFPWG5D  0002247399   \n",
       "5089  A1GXOPDPVWA3U9  0002247399   \n",
       "5101  A144NUECKP2AS7  0002247399   \n",
       "\n",
       "                                            Review_Text  Rating  \n",
       "80    As Amin Rihani described his own friend Gibran...     1.0  \n",
       "121   I appreciate getting the book at the great pri...     1.0  \n",
       "146   This man was a son of a pastor, but worshipped...     1.0  \n",
       "148   You've got to be kidding, all you 5 star revie...     1.0  \n",
       "159   This book was a philosophical touchstone for i...     1.0  \n",
       "...                                                 ...     ...  \n",
       "5067  For a 5 book series, with a huge cast of chara...     1.0  \n",
       "5076  Martin continues his tradition of dragging out...     1.0  \n",
       "5081  Books 1-3 were engrossing and broke so many ac...     1.0  \n",
       "5089  I have to preface by saying I loved book 1 but...     1.0  \n",
       "5101  The initial story line appeared to be sound an...     1.0  \n",
       "\n",
       "[200 rows x 4 columns]"
      ]
     },
     "execution_count": 87,
     "metadata": {},
     "output_type": "execute_result"
    }
   ],
   "source": [
    "df1"
   ]
  }
 ],
 "metadata": {
  "kernelspec": {
   "display_name": "Python 3",
   "language": "python",
   "name": "python3"
  },
  "language_info": {
   "codemirror_mode": {
    "name": "ipython",
    "version": 3
   },
   "file_extension": ".py",
   "mimetype": "text/x-python",
   "name": "python",
   "nbconvert_exporter": "python",
   "pygments_lexer": "ipython3",
   "version": "3.7.4"
  }
 },
 "nbformat": 4,
 "nbformat_minor": 2
}
